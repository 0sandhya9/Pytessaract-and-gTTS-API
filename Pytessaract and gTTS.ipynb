{
 "cells": [
  {
   "cell_type": "markdown",
   "metadata": {},
   "source": [
    "# Pytessaract and gTTS API reading text converting it into MP3 file"
   ]
  },
  {
   "cell_type": "markdown",
   "metadata": {},
   "source": [
    "# text document"
   ]
  },
  {
   "cell_type": "code",
   "execution_count": null,
   "metadata": {},
   "outputs": [],
   "source": [
    "import os\n",
    "import pandas as pd\n",
    "import csv\n",
    "from gtts import gTTS \n",
    "data=open('C:\\\\Users\\\\sandh\\\\Documents\\\\New Text Document.txt','r').read().replace(\"\\n\",\"\")\n",
    "#text = txt.process(r'C:\\Users\\sandh\\Documents\\New Text Document.txt')\n",
    "#text = (\"Global warming is the long-term rise in the average temperature of the Earth’s climate system\")\n",
    "#df = pd.read_table(r'C:\\Users\\sandh\\Documents\\New Text Document.txt')\n",
    "#f = open('C:\\Users\\sandh\\Documents\\New Text Document.txt', 'r')\n",
    "language = ('fr')\n",
    "speech = gTTS(text = data, lang = language, slow = False)\n",
    "speech.save(\"text.mp3\")\n",
    "os.system(\"text.mp3\")"
   ]
  },
  {
   "cell_type": "markdown",
   "metadata": {},
   "source": [
    "# Image text"
   ]
  },
  {
   "cell_type": "code",
   "execution_count": null,
   "metadata": {},
   "outputs": [],
   "source": [
    "from PIL import Image\n",
    "import pytesseract\n",
    "from gtts import gTTS \n",
    "import os\n",
    "\n",
    "pytesseract.pytesseract.tesseract_cmd = \"C:\\\\Users\\\\sandh\\\\pytesseract-0.3.2.dist-info\\\\tesseract.exe\"\n",
    "text = pytesseract.image_to_string(Image.open(\"C:\\\\Users\\\\sandh\\\\Downloads\\\\download.jfif\")).replace(\"\\n\",\"\")\n",
    "#text = pytesseract.image_to_string(Image.open(\"C:\\\\Users\\\\sandh\\\\Downloads\\\\download.jfif\"))\n",
    "language = ('en')\n",
    "speech = gTTS(text = text, lang = language, slow = False)\n",
    "speech.save(\"text.mp3\")\n",
    "os.system(\"text.mp3\")\n",
    "text"
   ]
  }
 ],
 "metadata": {
  "kernelspec": {
   "display_name": "Python 3",
   "language": "python",
   "name": "python3"
  },
  "language_info": {
   "codemirror_mode": {
    "name": "ipython",
    "version": 3
   },
   "file_extension": ".py",
   "mimetype": "text/x-python",
   "name": "python",
   "nbconvert_exporter": "python",
   "pygments_lexer": "ipython3",
   "version": "3.8.1"
  }
 },
 "nbformat": 4,
 "nbformat_minor": 2
}
